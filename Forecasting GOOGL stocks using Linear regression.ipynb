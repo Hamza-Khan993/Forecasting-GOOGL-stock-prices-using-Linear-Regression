{
 "cells": [
  {
   "cell_type": "code",
   "execution_count": 93,
   "metadata": {},
   "outputs": [],
   "source": [
    "import pandas as pd\n",
    "import quandl, math\n",
    "import numpy as np\n",
    "from sklearn import preprocessing,  svm\n",
    "from sklearn.linear_model import LinearRegression\n",
    "from sklearn.model_selection import cross_validate\n",
    "from sklearn.model_selection import train_test_split\n",
    "from scipy import stats"
   ]
  },
  {
   "cell_type": "code",
   "execution_count": 90,
   "metadata": {
    "scrolled": true
   },
   "outputs": [],
   "source": [
    "df = quandl.get(\"WIKI/GOOGL\")"
   ]
  },
  {
   "cell_type": "code",
   "execution_count": 91,
   "metadata": {},
   "outputs": [
    {
     "data": {
      "text/html": [
       "<div>\n",
       "<style scoped>\n",
       "    .dataframe tbody tr th:only-of-type {\n",
       "        vertical-align: middle;\n",
       "    }\n",
       "\n",
       "    .dataframe tbody tr th {\n",
       "        vertical-align: top;\n",
       "    }\n",
       "\n",
       "    .dataframe thead th {\n",
       "        text-align: right;\n",
       "    }\n",
       "</style>\n",
       "<table border=\"1\" class=\"dataframe\">\n",
       "  <thead>\n",
       "    <tr style=\"text-align: right;\">\n",
       "      <th></th>\n",
       "      <th>Open</th>\n",
       "      <th>High</th>\n",
       "      <th>Low</th>\n",
       "      <th>Close</th>\n",
       "      <th>Volume</th>\n",
       "      <th>Ex-Dividend</th>\n",
       "      <th>Split Ratio</th>\n",
       "      <th>Adj. Open</th>\n",
       "      <th>Adj. High</th>\n",
       "      <th>Adj. Low</th>\n",
       "      <th>Adj. Close</th>\n",
       "      <th>Adj. Volume</th>\n",
       "    </tr>\n",
       "    <tr>\n",
       "      <th>Date</th>\n",
       "      <th></th>\n",
       "      <th></th>\n",
       "      <th></th>\n",
       "      <th></th>\n",
       "      <th></th>\n",
       "      <th></th>\n",
       "      <th></th>\n",
       "      <th></th>\n",
       "      <th></th>\n",
       "      <th></th>\n",
       "      <th></th>\n",
       "      <th></th>\n",
       "    </tr>\n",
       "  </thead>\n",
       "  <tbody>\n",
       "    <tr>\n",
       "      <th>2004-08-19</th>\n",
       "      <td>100.01</td>\n",
       "      <td>104.06</td>\n",
       "      <td>95.96</td>\n",
       "      <td>100.335</td>\n",
       "      <td>44659000.0</td>\n",
       "      <td>0.0</td>\n",
       "      <td>1.0</td>\n",
       "      <td>50.159839</td>\n",
       "      <td>52.191109</td>\n",
       "      <td>48.128568</td>\n",
       "      <td>50.322842</td>\n",
       "      <td>44659000.0</td>\n",
       "    </tr>\n",
       "    <tr>\n",
       "      <th>2004-08-20</th>\n",
       "      <td>101.01</td>\n",
       "      <td>109.08</td>\n",
       "      <td>100.50</td>\n",
       "      <td>108.310</td>\n",
       "      <td>22834300.0</td>\n",
       "      <td>0.0</td>\n",
       "      <td>1.0</td>\n",
       "      <td>50.661387</td>\n",
       "      <td>54.708881</td>\n",
       "      <td>50.405597</td>\n",
       "      <td>54.322689</td>\n",
       "      <td>22834300.0</td>\n",
       "    </tr>\n",
       "    <tr>\n",
       "      <th>2004-08-23</th>\n",
       "      <td>110.76</td>\n",
       "      <td>113.48</td>\n",
       "      <td>109.05</td>\n",
       "      <td>109.400</td>\n",
       "      <td>18256100.0</td>\n",
       "      <td>0.0</td>\n",
       "      <td>1.0</td>\n",
       "      <td>55.551482</td>\n",
       "      <td>56.915693</td>\n",
       "      <td>54.693835</td>\n",
       "      <td>54.869377</td>\n",
       "      <td>18256100.0</td>\n",
       "    </tr>\n",
       "    <tr>\n",
       "      <th>2004-08-24</th>\n",
       "      <td>111.24</td>\n",
       "      <td>111.60</td>\n",
       "      <td>103.57</td>\n",
       "      <td>104.870</td>\n",
       "      <td>15247300.0</td>\n",
       "      <td>0.0</td>\n",
       "      <td>1.0</td>\n",
       "      <td>55.792225</td>\n",
       "      <td>55.972783</td>\n",
       "      <td>51.945350</td>\n",
       "      <td>52.597363</td>\n",
       "      <td>15247300.0</td>\n",
       "    </tr>\n",
       "    <tr>\n",
       "      <th>2004-08-25</th>\n",
       "      <td>104.76</td>\n",
       "      <td>108.00</td>\n",
       "      <td>103.88</td>\n",
       "      <td>106.000</td>\n",
       "      <td>9188600.0</td>\n",
       "      <td>0.0</td>\n",
       "      <td>1.0</td>\n",
       "      <td>52.542193</td>\n",
       "      <td>54.167209</td>\n",
       "      <td>52.100830</td>\n",
       "      <td>53.164113</td>\n",
       "      <td>9188600.0</td>\n",
       "    </tr>\n",
       "  </tbody>\n",
       "</table>\n",
       "</div>"
      ],
      "text/plain": [
       "              Open    High     Low    Close      Volume  Ex-Dividend  \\\n",
       "Date                                                                   \n",
       "2004-08-19  100.01  104.06   95.96  100.335  44659000.0          0.0   \n",
       "2004-08-20  101.01  109.08  100.50  108.310  22834300.0          0.0   \n",
       "2004-08-23  110.76  113.48  109.05  109.400  18256100.0          0.0   \n",
       "2004-08-24  111.24  111.60  103.57  104.870  15247300.0          0.0   \n",
       "2004-08-25  104.76  108.00  103.88  106.000   9188600.0          0.0   \n",
       "\n",
       "            Split Ratio  Adj. Open  Adj. High   Adj. Low  Adj. Close  \\\n",
       "Date                                                                   \n",
       "2004-08-19          1.0  50.159839  52.191109  48.128568   50.322842   \n",
       "2004-08-20          1.0  50.661387  54.708881  50.405597   54.322689   \n",
       "2004-08-23          1.0  55.551482  56.915693  54.693835   54.869377   \n",
       "2004-08-24          1.0  55.792225  55.972783  51.945350   52.597363   \n",
       "2004-08-25          1.0  52.542193  54.167209  52.100830   53.164113   \n",
       "\n",
       "            Adj. Volume  \n",
       "Date                     \n",
       "2004-08-19   44659000.0  \n",
       "2004-08-20   22834300.0  \n",
       "2004-08-23   18256100.0  \n",
       "2004-08-24   15247300.0  \n",
       "2004-08-25    9188600.0  "
      ]
     },
     "execution_count": 91,
     "metadata": {},
     "output_type": "execute_result"
    }
   ],
   "source": [
    "df.head()"
   ]
  },
  {
   "cell_type": "code",
   "execution_count": 94,
   "metadata": {},
   "outputs": [
    {
     "name": "stdout",
     "output_type": "stream",
     "text": [
      "Pearson Coef of  -0.552175153505426 of Open\n",
      "Pearson Coef of  -0.5489853447246398 of High\n",
      "Pearson Coef of  -0.5577960794212009 of Low\n",
      "Pearson Coef of  -0.5537779967582259 of Close\n",
      "Pearson Coef of  0.9999999999999998 of Volume is greater than 0.85\n",
      "Pearson Coef of  -0.007876157804649241 of Ex-Dividend\n",
      "Pearson Coef of  nan of Split Ratio\n",
      "Pearson Coef of  -0.549529070201729 of Adj. Open\n",
      "Pearson Coef of  -0.5479429950135168 of Adj. High\n",
      "Pearson Coef of  -0.5522691650864222 of Adj. Low\n",
      "Pearson Coef of  -0.5502640659087776 of Adj. Close\n",
      "Pearson Coef of  0.9999999999999998 of Adj. Volume is greater than 0.85\n"
     ]
    },
    {
     "name": "stderr",
     "output_type": "stream",
     "text": [
      "/usr/local/lib/python3.7/dist-packages/scipy/stats/stats.py:3399: PearsonRConstantInputWarning: An input array is constant; the correlation coefficent is not defined.\n",
      "  warnings.warn(PearsonRConstantInputWarning())\n"
     ]
    },
    {
     "data": {
      "text/html": [
       "<div>\n",
       "<style scoped>\n",
       "    .dataframe tbody tr th:only-of-type {\n",
       "        vertical-align: middle;\n",
       "    }\n",
       "\n",
       "    .dataframe tbody tr th {\n",
       "        vertical-align: top;\n",
       "    }\n",
       "\n",
       "    .dataframe thead th {\n",
       "        text-align: right;\n",
       "    }\n",
       "</style>\n",
       "<table border=\"1\" class=\"dataframe\">\n",
       "  <thead>\n",
       "    <tr style=\"text-align: right;\">\n",
       "      <th></th>\n",
       "      <th>Open</th>\n",
       "      <th>High</th>\n",
       "      <th>Low</th>\n",
       "      <th>Close</th>\n",
       "      <th>Ex-Dividend</th>\n",
       "      <th>Split Ratio</th>\n",
       "      <th>Adj. Open</th>\n",
       "      <th>Adj. High</th>\n",
       "      <th>Adj. Low</th>\n",
       "      <th>Adj. Close</th>\n",
       "    </tr>\n",
       "    <tr>\n",
       "      <th>Date</th>\n",
       "      <th></th>\n",
       "      <th></th>\n",
       "      <th></th>\n",
       "      <th></th>\n",
       "      <th></th>\n",
       "      <th></th>\n",
       "      <th></th>\n",
       "      <th></th>\n",
       "      <th></th>\n",
       "      <th></th>\n",
       "    </tr>\n",
       "  </thead>\n",
       "  <tbody>\n",
       "    <tr>\n",
       "      <th>2004-08-19</th>\n",
       "      <td>100.01</td>\n",
       "      <td>104.06</td>\n",
       "      <td>95.96</td>\n",
       "      <td>100.335</td>\n",
       "      <td>0.0</td>\n",
       "      <td>1.0</td>\n",
       "      <td>50.159839</td>\n",
       "      <td>52.191109</td>\n",
       "      <td>48.128568</td>\n",
       "      <td>50.322842</td>\n",
       "    </tr>\n",
       "    <tr>\n",
       "      <th>2004-08-20</th>\n",
       "      <td>101.01</td>\n",
       "      <td>109.08</td>\n",
       "      <td>100.50</td>\n",
       "      <td>108.310</td>\n",
       "      <td>0.0</td>\n",
       "      <td>1.0</td>\n",
       "      <td>50.661387</td>\n",
       "      <td>54.708881</td>\n",
       "      <td>50.405597</td>\n",
       "      <td>54.322689</td>\n",
       "    </tr>\n",
       "    <tr>\n",
       "      <th>2004-08-23</th>\n",
       "      <td>110.76</td>\n",
       "      <td>113.48</td>\n",
       "      <td>109.05</td>\n",
       "      <td>109.400</td>\n",
       "      <td>0.0</td>\n",
       "      <td>1.0</td>\n",
       "      <td>55.551482</td>\n",
       "      <td>56.915693</td>\n",
       "      <td>54.693835</td>\n",
       "      <td>54.869377</td>\n",
       "    </tr>\n",
       "    <tr>\n",
       "      <th>2004-08-24</th>\n",
       "      <td>111.24</td>\n",
       "      <td>111.60</td>\n",
       "      <td>103.57</td>\n",
       "      <td>104.870</td>\n",
       "      <td>0.0</td>\n",
       "      <td>1.0</td>\n",
       "      <td>55.792225</td>\n",
       "      <td>55.972783</td>\n",
       "      <td>51.945350</td>\n",
       "      <td>52.597363</td>\n",
       "    </tr>\n",
       "    <tr>\n",
       "      <th>2004-08-25</th>\n",
       "      <td>104.76</td>\n",
       "      <td>108.00</td>\n",
       "      <td>103.88</td>\n",
       "      <td>106.000</td>\n",
       "      <td>0.0</td>\n",
       "      <td>1.0</td>\n",
       "      <td>52.542193</td>\n",
       "      <td>54.167209</td>\n",
       "      <td>52.100830</td>\n",
       "      <td>53.164113</td>\n",
       "    </tr>\n",
       "    <tr>\n",
       "      <th>...</th>\n",
       "      <td>...</td>\n",
       "      <td>...</td>\n",
       "      <td>...</td>\n",
       "      <td>...</td>\n",
       "      <td>...</td>\n",
       "      <td>...</td>\n",
       "      <td>...</td>\n",
       "      <td>...</td>\n",
       "      <td>...</td>\n",
       "      <td>...</td>\n",
       "    </tr>\n",
       "    <tr>\n",
       "      <th>2018-03-21</th>\n",
       "      <td>1092.57</td>\n",
       "      <td>1108.70</td>\n",
       "      <td>1087.21</td>\n",
       "      <td>1094.000</td>\n",
       "      <td>0.0</td>\n",
       "      <td>1.0</td>\n",
       "      <td>1092.570000</td>\n",
       "      <td>1108.700000</td>\n",
       "      <td>1087.210000</td>\n",
       "      <td>1094.000000</td>\n",
       "    </tr>\n",
       "    <tr>\n",
       "      <th>2018-03-22</th>\n",
       "      <td>1080.01</td>\n",
       "      <td>1083.92</td>\n",
       "      <td>1049.64</td>\n",
       "      <td>1053.150</td>\n",
       "      <td>0.0</td>\n",
       "      <td>1.0</td>\n",
       "      <td>1080.010000</td>\n",
       "      <td>1083.920000</td>\n",
       "      <td>1049.640000</td>\n",
       "      <td>1053.150000</td>\n",
       "    </tr>\n",
       "    <tr>\n",
       "      <th>2018-03-23</th>\n",
       "      <td>1051.37</td>\n",
       "      <td>1066.78</td>\n",
       "      <td>1024.87</td>\n",
       "      <td>1026.550</td>\n",
       "      <td>0.0</td>\n",
       "      <td>1.0</td>\n",
       "      <td>1051.370000</td>\n",
       "      <td>1066.780000</td>\n",
       "      <td>1024.870000</td>\n",
       "      <td>1026.550000</td>\n",
       "    </tr>\n",
       "    <tr>\n",
       "      <th>2018-03-26</th>\n",
       "      <td>1050.60</td>\n",
       "      <td>1059.27</td>\n",
       "      <td>1010.58</td>\n",
       "      <td>1054.090</td>\n",
       "      <td>0.0</td>\n",
       "      <td>1.0</td>\n",
       "      <td>1050.600000</td>\n",
       "      <td>1059.270000</td>\n",
       "      <td>1010.580000</td>\n",
       "      <td>1054.090000</td>\n",
       "    </tr>\n",
       "    <tr>\n",
       "      <th>2018-03-27</th>\n",
       "      <td>1063.90</td>\n",
       "      <td>1064.54</td>\n",
       "      <td>997.62</td>\n",
       "      <td>1006.940</td>\n",
       "      <td>0.0</td>\n",
       "      <td>1.0</td>\n",
       "      <td>1063.900000</td>\n",
       "      <td>1064.540000</td>\n",
       "      <td>997.620000</td>\n",
       "      <td>1006.940000</td>\n",
       "    </tr>\n",
       "  </tbody>\n",
       "</table>\n",
       "<p>3424 rows × 10 columns</p>\n",
       "</div>"
      ],
      "text/plain": [
       "               Open     High      Low     Close  Ex-Dividend  Split Ratio  \\\n",
       "Date                                                                        \n",
       "2004-08-19   100.01   104.06    95.96   100.335          0.0          1.0   \n",
       "2004-08-20   101.01   109.08   100.50   108.310          0.0          1.0   \n",
       "2004-08-23   110.76   113.48   109.05   109.400          0.0          1.0   \n",
       "2004-08-24   111.24   111.60   103.57   104.870          0.0          1.0   \n",
       "2004-08-25   104.76   108.00   103.88   106.000          0.0          1.0   \n",
       "...             ...      ...      ...       ...          ...          ...   \n",
       "2018-03-21  1092.57  1108.70  1087.21  1094.000          0.0          1.0   \n",
       "2018-03-22  1080.01  1083.92  1049.64  1053.150          0.0          1.0   \n",
       "2018-03-23  1051.37  1066.78  1024.87  1026.550          0.0          1.0   \n",
       "2018-03-26  1050.60  1059.27  1010.58  1054.090          0.0          1.0   \n",
       "2018-03-27  1063.90  1064.54   997.62  1006.940          0.0          1.0   \n",
       "\n",
       "              Adj. Open    Adj. High     Adj. Low   Adj. Close  \n",
       "Date                                                            \n",
       "2004-08-19    50.159839    52.191109    48.128568    50.322842  \n",
       "2004-08-20    50.661387    54.708881    50.405597    54.322689  \n",
       "2004-08-23    55.551482    56.915693    54.693835    54.869377  \n",
       "2004-08-24    55.792225    55.972783    51.945350    52.597363  \n",
       "2004-08-25    52.542193    54.167209    52.100830    53.164113  \n",
       "...                 ...          ...          ...          ...  \n",
       "2018-03-21  1092.570000  1108.700000  1087.210000  1094.000000  \n",
       "2018-03-22  1080.010000  1083.920000  1049.640000  1053.150000  \n",
       "2018-03-23  1051.370000  1066.780000  1024.870000  1026.550000  \n",
       "2018-03-26  1050.600000  1059.270000  1010.580000  1054.090000  \n",
       "2018-03-27  1063.900000  1064.540000   997.620000  1006.940000  \n",
       "\n",
       "[3424 rows x 10 columns]"
      ]
     },
     "execution_count": 94,
     "metadata": {},
     "output_type": "execute_result"
    }
   ],
   "source": [
    "df = df.select_dtypes(exclude = ['object'])\n",
    "df = df.select_dtypes(exclude = ['category'])\n",
    "\n",
    "df[df.replace([np.inf, -np.inf], np.nan).notnull().all(axis=1)]  # .astype(np.float64) ?\n",
    "df.dropna(0,inplace=True)\n",
    "\n",
    "label = \"Adj. Volume\"\n",
    "\n",
    "l = df.columns\n",
    "\n",
    "j = []\n",
    "for i in l:\n",
    "    pearson_coef,p_value = stats.pearsonr(df[i],df[label])\n",
    "    if 1 > pearson_coef > 0.85:\n",
    "        j.append(i)\n",
    "        print(\"Pearson Coef of \",pearson_coef, \"of\", i, \"is greater than 0.85\")\n",
    "    else:\n",
    "        print(\"Pearson Coef of \",pearson_coef , \"of\", i) \n",
    "        \n",
    "df.drop(j,axis=1)"
   ]
  },
  {
   "cell_type": "code",
   "execution_count": 51,
   "metadata": {},
   "outputs": [],
   "source": [
    "df1 = df[[\"Adj. Open\",\"Adj. High\",\"Adj. Low\",\"Adj. Close\",\"Adj. Volume\"]]"
   ]
  },
  {
   "cell_type": "code",
   "execution_count": 52,
   "metadata": {
    "scrolled": true
   },
   "outputs": [
    {
     "data": {
      "text/html": [
       "<div>\n",
       "<style scoped>\n",
       "    .dataframe tbody tr th:only-of-type {\n",
       "        vertical-align: middle;\n",
       "    }\n",
       "\n",
       "    .dataframe tbody tr th {\n",
       "        vertical-align: top;\n",
       "    }\n",
       "\n",
       "    .dataframe thead th {\n",
       "        text-align: right;\n",
       "    }\n",
       "</style>\n",
       "<table border=\"1\" class=\"dataframe\">\n",
       "  <thead>\n",
       "    <tr style=\"text-align: right;\">\n",
       "      <th></th>\n",
       "      <th>Adj. Open</th>\n",
       "      <th>Adj. High</th>\n",
       "      <th>Adj. Low</th>\n",
       "      <th>Adj. Close</th>\n",
       "      <th>Adj. Volume</th>\n",
       "    </tr>\n",
       "    <tr>\n",
       "      <th>Date</th>\n",
       "      <th></th>\n",
       "      <th></th>\n",
       "      <th></th>\n",
       "      <th></th>\n",
       "      <th></th>\n",
       "    </tr>\n",
       "  </thead>\n",
       "  <tbody>\n",
       "    <tr>\n",
       "      <th>2004-08-19</th>\n",
       "      <td>50.159839</td>\n",
       "      <td>52.191109</td>\n",
       "      <td>48.128568</td>\n",
       "      <td>50.322842</td>\n",
       "      <td>44659000.0</td>\n",
       "    </tr>\n",
       "    <tr>\n",
       "      <th>2004-08-20</th>\n",
       "      <td>50.661387</td>\n",
       "      <td>54.708881</td>\n",
       "      <td>50.405597</td>\n",
       "      <td>54.322689</td>\n",
       "      <td>22834300.0</td>\n",
       "    </tr>\n",
       "    <tr>\n",
       "      <th>2004-08-23</th>\n",
       "      <td>55.551482</td>\n",
       "      <td>56.915693</td>\n",
       "      <td>54.693835</td>\n",
       "      <td>54.869377</td>\n",
       "      <td>18256100.0</td>\n",
       "    </tr>\n",
       "    <tr>\n",
       "      <th>2004-08-24</th>\n",
       "      <td>55.792225</td>\n",
       "      <td>55.972783</td>\n",
       "      <td>51.945350</td>\n",
       "      <td>52.597363</td>\n",
       "      <td>15247300.0</td>\n",
       "    </tr>\n",
       "    <tr>\n",
       "      <th>2004-08-25</th>\n",
       "      <td>52.542193</td>\n",
       "      <td>54.167209</td>\n",
       "      <td>52.100830</td>\n",
       "      <td>53.164113</td>\n",
       "      <td>9188600.0</td>\n",
       "    </tr>\n",
       "  </tbody>\n",
       "</table>\n",
       "</div>"
      ],
      "text/plain": [
       "            Adj. Open  Adj. High   Adj. Low  Adj. Close  Adj. Volume\n",
       "Date                                                                \n",
       "2004-08-19  50.159839  52.191109  48.128568   50.322842   44659000.0\n",
       "2004-08-20  50.661387  54.708881  50.405597   54.322689   22834300.0\n",
       "2004-08-23  55.551482  56.915693  54.693835   54.869377   18256100.0\n",
       "2004-08-24  55.792225  55.972783  51.945350   52.597363   15247300.0\n",
       "2004-08-25  52.542193  54.167209  52.100830   53.164113    9188600.0"
      ]
     },
     "execution_count": 52,
     "metadata": {},
     "output_type": "execute_result"
    }
   ],
   "source": [
    "df1.head()"
   ]
  },
  {
   "cell_type": "code",
   "execution_count": 53,
   "metadata": {},
   "outputs": [
    {
     "data": {
      "text/plain": [
       "(3424, 12)"
      ]
     },
     "execution_count": 53,
     "metadata": {},
     "output_type": "execute_result"
    }
   ],
   "source": [
    "df.shape"
   ]
  },
  {
   "cell_type": "code",
   "execution_count": 54,
   "metadata": {
    "scrolled": true
   },
   "outputs": [
    {
     "name": "stderr",
     "output_type": "stream",
     "text": [
      "/usr/local/lib/python3.7/dist-packages/ipykernel_launcher.py:1: SettingWithCopyWarning: \n",
      "A value is trying to be set on a copy of a slice from a DataFrame.\n",
      "Try using .loc[row_indexer,col_indexer] = value instead\n",
      "\n",
      "See the caveats in the documentation: http://pandas.pydata.org/pandas-docs/stable/user_guide/indexing.html#returning-a-view-versus-a-copy\n",
      "  \"\"\"Entry point for launching an IPython kernel.\n",
      "/usr/local/lib/python3.7/dist-packages/ipykernel_launcher.py:2: SettingWithCopyWarning: \n",
      "A value is trying to be set on a copy of a slice from a DataFrame.\n",
      "Try using .loc[row_indexer,col_indexer] = value instead\n",
      "\n",
      "See the caveats in the documentation: http://pandas.pydata.org/pandas-docs/stable/user_guide/indexing.html#returning-a-view-versus-a-copy\n",
      "  \n"
     ]
    }
   ],
   "source": [
    "df1[\"HL_PCT\"] = (df1['Adj. High']-df1['Adj. Close']) / df1[\"Adj. Close\"] * 100\n",
    "df1[\"PCT_change\"] = (df1[\"Adj. Close\"] - df1[\"Adj. Open\"]) / df1['Adj. Open'] * 100\n",
    "df = df1[['Adj. Close','HL_PCT','PCT_change','Adj. Volume']]"
   ]
  },
  {
   "cell_type": "code",
   "execution_count": 55,
   "metadata": {
    "scrolled": true
   },
   "outputs": [
    {
     "data": {
      "text/html": [
       "<div>\n",
       "<style scoped>\n",
       "    .dataframe tbody tr th:only-of-type {\n",
       "        vertical-align: middle;\n",
       "    }\n",
       "\n",
       "    .dataframe tbody tr th {\n",
       "        vertical-align: top;\n",
       "    }\n",
       "\n",
       "    .dataframe thead th {\n",
       "        text-align: right;\n",
       "    }\n",
       "</style>\n",
       "<table border=\"1\" class=\"dataframe\">\n",
       "  <thead>\n",
       "    <tr style=\"text-align: right;\">\n",
       "      <th></th>\n",
       "      <th>Adj. Close</th>\n",
       "      <th>HL_PCT</th>\n",
       "      <th>PCT_change</th>\n",
       "      <th>Adj. Volume</th>\n",
       "    </tr>\n",
       "    <tr>\n",
       "      <th>Date</th>\n",
       "      <th></th>\n",
       "      <th></th>\n",
       "      <th></th>\n",
       "      <th></th>\n",
       "    </tr>\n",
       "  </thead>\n",
       "  <tbody>\n",
       "    <tr>\n",
       "      <th>2004-08-19</th>\n",
       "      <td>50.322842</td>\n",
       "      <td>3.712563</td>\n",
       "      <td>0.324968</td>\n",
       "      <td>44659000.0</td>\n",
       "    </tr>\n",
       "    <tr>\n",
       "      <th>2004-08-20</th>\n",
       "      <td>54.322689</td>\n",
       "      <td>0.710922</td>\n",
       "      <td>7.227007</td>\n",
       "      <td>22834300.0</td>\n",
       "    </tr>\n",
       "    <tr>\n",
       "      <th>2004-08-23</th>\n",
       "      <td>54.869377</td>\n",
       "      <td>3.729433</td>\n",
       "      <td>-1.227880</td>\n",
       "      <td>18256100.0</td>\n",
       "    </tr>\n",
       "    <tr>\n",
       "      <th>2004-08-24</th>\n",
       "      <td>52.597363</td>\n",
       "      <td>6.417469</td>\n",
       "      <td>-5.726357</td>\n",
       "      <td>15247300.0</td>\n",
       "    </tr>\n",
       "    <tr>\n",
       "      <th>2004-08-25</th>\n",
       "      <td>53.164113</td>\n",
       "      <td>1.886792</td>\n",
       "      <td>1.183658</td>\n",
       "      <td>9188600.0</td>\n",
       "    </tr>\n",
       "  </tbody>\n",
       "</table>\n",
       "</div>"
      ],
      "text/plain": [
       "            Adj. Close    HL_PCT  PCT_change  Adj. Volume\n",
       "Date                                                     \n",
       "2004-08-19   50.322842  3.712563    0.324968   44659000.0\n",
       "2004-08-20   54.322689  0.710922    7.227007   22834300.0\n",
       "2004-08-23   54.869377  3.729433   -1.227880   18256100.0\n",
       "2004-08-24   52.597363  6.417469   -5.726357   15247300.0\n",
       "2004-08-25   53.164113  1.886792    1.183658    9188600.0"
      ]
     },
     "execution_count": 55,
     "metadata": {},
     "output_type": "execute_result"
    }
   ],
   "source": [
    "df.head(5)"
   ]
  },
  {
   "cell_type": "code",
   "execution_count": 56,
   "metadata": {},
   "outputs": [
    {
     "data": {
      "text/plain": [
       "34.24"
      ]
     },
     "execution_count": 56,
     "metadata": {},
     "output_type": "execute_result"
    }
   ],
   "source": [
    "a= 0.01*len(df)\n",
    "a"
   ]
  },
  {
   "cell_type": "code",
   "execution_count": 57,
   "metadata": {},
   "outputs": [
    {
     "data": {
      "text/plain": [
       "35"
      ]
     },
     "execution_count": 57,
     "metadata": {},
     "output_type": "execute_result"
    }
   ],
   "source": [
    "int(math.ceil(a))"
   ]
  },
  {
   "cell_type": "code",
   "execution_count": 58,
   "metadata": {},
   "outputs": [
    {
     "name": "stderr",
     "output_type": "stream",
     "text": [
      "/usr/local/lib/python3.7/dist-packages/ipykernel_launcher.py:3: SettingWithCopyWarning: \n",
      "A value is trying to be set on a copy of a slice from a DataFrame.\n",
      "Try using .loc[row_indexer,col_indexer] = value instead\n",
      "\n",
      "See the caveats in the documentation: http://pandas.pydata.org/pandas-docs/stable/user_guide/indexing.html#returning-a-view-versus-a-copy\n",
      "  This is separate from the ipykernel package so we can avoid doing imports until\n",
      "/usr/local/lib/python3.7/dist-packages/ipykernel_launcher.py:4: SettingWithCopyWarning: \n",
      "A value is trying to be set on a copy of a slice from a DataFrame\n",
      "\n",
      "See the caveats in the documentation: http://pandas.pydata.org/pandas-docs/stable/user_guide/indexing.html#returning-a-view-versus-a-copy\n",
      "  after removing the cwd from sys.path.\n"
     ]
    },
    {
     "data": {
      "text/html": [
       "<div>\n",
       "<style scoped>\n",
       "    .dataframe tbody tr th:only-of-type {\n",
       "        vertical-align: middle;\n",
       "    }\n",
       "\n",
       "    .dataframe tbody tr th {\n",
       "        vertical-align: top;\n",
       "    }\n",
       "\n",
       "    .dataframe thead th {\n",
       "        text-align: right;\n",
       "    }\n",
       "</style>\n",
       "<table border=\"1\" class=\"dataframe\">\n",
       "  <thead>\n",
       "    <tr style=\"text-align: right;\">\n",
       "      <th></th>\n",
       "      <th>Adj. Close</th>\n",
       "      <th>HL_PCT</th>\n",
       "      <th>PCT_change</th>\n",
       "      <th>Adj. Volume</th>\n",
       "      <th>label</th>\n",
       "    </tr>\n",
       "    <tr>\n",
       "      <th>Date</th>\n",
       "      <th></th>\n",
       "      <th></th>\n",
       "      <th></th>\n",
       "      <th></th>\n",
       "      <th></th>\n",
       "    </tr>\n",
       "  </thead>\n",
       "  <tbody>\n",
       "    <tr>\n",
       "      <th>2004-08-19</th>\n",
       "      <td>50.322842</td>\n",
       "      <td>3.712563</td>\n",
       "      <td>0.324968</td>\n",
       "      <td>44659000.0</td>\n",
       "      <td>69.078238</td>\n",
       "    </tr>\n",
       "    <tr>\n",
       "      <th>2004-08-20</th>\n",
       "      <td>54.322689</td>\n",
       "      <td>0.710922</td>\n",
       "      <td>7.227007</td>\n",
       "      <td>22834300.0</td>\n",
       "      <td>67.839414</td>\n",
       "    </tr>\n",
       "    <tr>\n",
       "      <th>2004-08-23</th>\n",
       "      <td>54.869377</td>\n",
       "      <td>3.729433</td>\n",
       "      <td>-1.227880</td>\n",
       "      <td>18256100.0</td>\n",
       "      <td>68.912727</td>\n",
       "    </tr>\n",
       "    <tr>\n",
       "      <th>2004-08-24</th>\n",
       "      <td>52.597363</td>\n",
       "      <td>6.417469</td>\n",
       "      <td>-5.726357</td>\n",
       "      <td>15247300.0</td>\n",
       "      <td>70.668146</td>\n",
       "    </tr>\n",
       "    <tr>\n",
       "      <th>2004-08-25</th>\n",
       "      <td>53.164113</td>\n",
       "      <td>1.886792</td>\n",
       "      <td>1.183658</td>\n",
       "      <td>9188600.0</td>\n",
       "      <td>71.219849</td>\n",
       "    </tr>\n",
       "    <tr>\n",
       "      <th>...</th>\n",
       "      <td>...</td>\n",
       "      <td>...</td>\n",
       "      <td>...</td>\n",
       "      <td>...</td>\n",
       "      <td>...</td>\n",
       "    </tr>\n",
       "    <tr>\n",
       "      <th>2018-01-30</th>\n",
       "      <td>1177.370000</td>\n",
       "      <td>0.896914</td>\n",
       "      <td>-0.029718</td>\n",
       "      <td>1792602.0</td>\n",
       "      <td>1094.000000</td>\n",
       "    </tr>\n",
       "    <tr>\n",
       "      <th>2018-01-31</th>\n",
       "      <td>1182.220000</td>\n",
       "      <td>0.346805</td>\n",
       "      <td>-0.134312</td>\n",
       "      <td>1643877.0</td>\n",
       "      <td>1053.150000</td>\n",
       "    </tr>\n",
       "    <tr>\n",
       "      <th>2018-02-01</th>\n",
       "      <td>1181.590000</td>\n",
       "      <td>0.495942</td>\n",
       "      <td>0.476195</td>\n",
       "      <td>2774967.0</td>\n",
       "      <td>1026.550000</td>\n",
       "    </tr>\n",
       "    <tr>\n",
       "      <th>2018-02-02</th>\n",
       "      <td>1119.200000</td>\n",
       "      <td>1.081129</td>\n",
       "      <td>-0.729098</td>\n",
       "      <td>5798880.0</td>\n",
       "      <td>1054.090000</td>\n",
       "    </tr>\n",
       "    <tr>\n",
       "      <th>2018-02-05</th>\n",
       "      <td>1068.760000</td>\n",
       "      <td>4.325574</td>\n",
       "      <td>-2.893850</td>\n",
       "      <td>3742469.0</td>\n",
       "      <td>1006.940000</td>\n",
       "    </tr>\n",
       "  </tbody>\n",
       "</table>\n",
       "<p>3389 rows × 5 columns</p>\n",
       "</div>"
      ],
      "text/plain": [
       "             Adj. Close    HL_PCT  PCT_change  Adj. Volume        label\n",
       "Date                                                                   \n",
       "2004-08-19    50.322842  3.712563    0.324968   44659000.0    69.078238\n",
       "2004-08-20    54.322689  0.710922    7.227007   22834300.0    67.839414\n",
       "2004-08-23    54.869377  3.729433   -1.227880   18256100.0    68.912727\n",
       "2004-08-24    52.597363  6.417469   -5.726357   15247300.0    70.668146\n",
       "2004-08-25    53.164113  1.886792    1.183658    9188600.0    71.219849\n",
       "...                 ...       ...         ...          ...          ...\n",
       "2018-01-30  1177.370000  0.896914   -0.029718    1792602.0  1094.000000\n",
       "2018-01-31  1182.220000  0.346805   -0.134312    1643877.0  1053.150000\n",
       "2018-02-01  1181.590000  0.495942    0.476195    2774967.0  1026.550000\n",
       "2018-02-02  1119.200000  1.081129   -0.729098    5798880.0  1054.090000\n",
       "2018-02-05  1068.760000  4.325574   -2.893850    3742469.0  1006.940000\n",
       "\n",
       "[3389 rows x 5 columns]"
      ]
     },
     "execution_count": 58,
     "metadata": {},
     "output_type": "execute_result"
    }
   ],
   "source": [
    "forecast_col = \"Adj. Close\"\n",
    "forecast_out = int(math.ceil(a))\n",
    "df[\"label\"] = df[forecast_col].shift(-forecast_out)\n",
    "df.dropna(inplace=True)\n",
    "df"
   ]
  },
  {
   "cell_type": "code",
   "execution_count": 59,
   "metadata": {
    "scrolled": true
   },
   "outputs": [
    {
     "data": {
      "text/plain": [
       "array([[ 5.03228418e+01,  3.71256291e+00,  3.24967503e-01,\n",
       "         4.46590000e+07],\n",
       "       [ 5.43226889e+01,  7.10922353e-01,  7.22700723e+00,\n",
       "         2.28343000e+07],\n",
       "       [ 5.48693765e+01,  3.72943327e+00, -1.22788010e+00,\n",
       "         1.82561000e+07],\n",
       "       [ 5.25973630e+01,  6.41746925e+00, -5.72635743e+00,\n",
       "         1.52473000e+07],\n",
       "       [ 5.31641125e+01,  1.88679245e+00,  1.18365788e+00,\n",
       "         9.18860000e+06]])"
      ]
     },
     "execution_count": 59,
     "metadata": {},
     "output_type": "execute_result"
    }
   ],
   "source": [
    "X = np.array(df.drop(['label'],1))\n",
    "X[0:5]"
   ]
  },
  {
   "cell_type": "code",
   "execution_count": 61,
   "metadata": {},
   "outputs": [
    {
     "data": {
      "text/plain": [
       "array([[ 1.05747000e+03,  9.08772826e-01,  1.87590598e-01,\n",
       "         1.53150400e+06],\n",
       "       [ 1.07200000e+03,  3.03171642e-01,  7.72716163e-01,\n",
       "         3.08073800e+06],\n",
       "       [ 1.08509000e+03,  1.29021556e-01,  8.02638302e-01,\n",
       "         1.48276800e+06],\n",
       "       [ 1.07978000e+03,  4.80653466e-01, -2.99163450e-01,\n",
       "         1.28793000e+06],\n",
       "       [ 1.07356000e+03,  7.14445397e-01, -6.80901454e-01,\n",
       "         1.42903500e+06],\n",
       "       [ 1.07085000e+03,  6.22869683e-01, -4.22172421e-01,\n",
       "         1.21101200e+06],\n",
       "       [ 1.06886000e+03,  2.67574799e-01, -1.06542056e-01,\n",
       "         8.60800000e+05],\n",
       "       [ 1.06585000e+03,  2.82403715e-01, -2.61079503e-01,\n",
       "         9.14574000e+05],\n",
       "       [ 1.06020000e+03,  7.61177136e-01, -6.00037502e-01,\n",
       "         1.02763400e+06],\n",
       "       [ 1.05595000e+03,  8.41895923e-01, -5.93080725e-01,\n",
       "         9.82285000e+05],\n",
       "       [ 1.05340000e+03,  4.41427758e-01, -1.98012298e-01,\n",
       "         1.15635700e+06],\n",
       "       [ 1.07321000e+03,  2.58104192e-01,  1.91734250e+00,\n",
       "         1.55580900e+06],\n",
       "       [ 1.09152000e+03,  4.19598358e-01,  1.63790936e+00,\n",
       "         1.55059300e+06],\n",
       "       [ 1.09576000e+03,  7.59290356e-01, -1.21229799e-01,\n",
       "         1.28929300e+06],\n",
       "       [ 1.11029000e+03,  2.96318980e-01,  6.19874031e-01,\n",
       "         1.49338900e+06],\n",
       "       [ 1.11421000e+03,  4.44260956e-01,  2.88928893e-01,\n",
       "         1.14895800e+06],\n",
       "       [ 1.11279000e+03,  5.07732816e-01, -5.05167912e-01,\n",
       "         1.33599500e+06],\n",
       "       [ 1.11014000e+03,  2.37807844e-01,  2.83649503e-01,\n",
       "         1.02778100e+06],\n",
       "       [ 1.11188000e+03,  2.67115156e-01, -3.86582877e-02,\n",
       "         1.10246100e+06],\n",
       "       [ 1.13065000e+03,  5.74890550e-02,  1.85118458e+00,\n",
       "         1.91446000e+06],\n",
       "       [ 1.13070000e+03,  1.60785354e+00, -8.42753286e-01,\n",
       "         1.78388100e+06],\n",
       "       [ 1.13910000e+03,  1.93134931e-02,  2.41120772e-01,\n",
       "         1.35309700e+06],\n",
       "       [ 1.13597000e+03,  4.06700881e-01, -2.96660377e-01,\n",
       "         1.33363300e+06],\n",
       "       [ 1.14350000e+03,  2.44862265e-02,  4.80655167e-01,\n",
       "         1.41837600e+06],\n",
       "       [ 1.16416000e+03,  2.33644860e-01,  1.77825182e+00,\n",
       "         1.43795400e+06],\n",
       "       [ 1.17617000e+03,  1.98950832e-01,  4.74107738e-01,\n",
       "         1.83212600e+06],\n",
       "       [ 1.17129000e+03,  1.34552502e+00, -1.15529376e+00,\n",
       "         1.81818200e+06],\n",
       "       [ 1.18214000e+03,  2.41934119e-01,  1.21113567e-01,\n",
       "         1.39896100e+06],\n",
       "       [ 1.18756000e+03,  0.00000000e+00,  2.52625197e-03,\n",
       "         1.98147600e+06],\n",
       "       [ 1.18648000e+03,  9.70939249e-01, -1.27946128e-01,\n",
       "         1.53393100e+06],\n",
       "       [ 1.17737000e+03,  8.96914309e-01, -2.97184390e-02,\n",
       "         1.79260200e+06],\n",
       "       [ 1.18222000e+03,  3.46805163e-01, -1.34312094e-01,\n",
       "         1.64387700e+06],\n",
       "       [ 1.18159000e+03,  4.95941909e-01,  4.76194525e-01,\n",
       "         2.77496700e+06],\n",
       "       [ 1.11920000e+03,  1.08112938e+00, -7.29098295e-01,\n",
       "         5.79888000e+06],\n",
       "       [ 1.06876000e+03,  4.32557356e+00, -2.89384977e+00,\n",
       "         3.74246900e+06]])"
      ]
     },
     "execution_count": 61,
     "metadata": {},
     "output_type": "execute_result"
    }
   ],
   "source": [
    "X_lately = X[-forecast_out:]\n",
    "X_lately"
   ]
  },
  {
   "cell_type": "code",
   "execution_count": 62,
   "metadata": {},
   "outputs": [
    {
     "data": {
      "text/plain": [
       "array([69.0782379 , 67.83941377, 68.91272699, 70.6681458 , 71.21984885])"
      ]
     },
     "execution_count": 62,
     "metadata": {},
     "output_type": "execute_result"
    }
   ],
   "source": [
    "y = np.array(df[\"label\"])\n",
    "y[0:5]"
   ]
  },
  {
   "cell_type": "code",
   "execution_count": 63,
   "metadata": {},
   "outputs": [
    {
     "name": "stdout",
     "output_type": "stream",
     "text": [
      "3389 3389\n"
     ]
    }
   ],
   "source": [
    "X =preprocessing.scale(X)\n",
    "y = np.array(df[\"label\"])\n",
    "\n",
    "print(len(X),len(y))"
   ]
  },
  {
   "cell_type": "code",
   "execution_count": 16,
   "metadata": {},
   "outputs": [],
   "source": [
    "X_train ,X_test, y_train, y_test = train_test_split(X,y, test_size=0.2)"
   ]
  },
  {
   "cell_type": "code",
   "execution_count": 64,
   "metadata": {},
   "outputs": [
    {
     "name": "stdout",
     "output_type": "stream",
     "text": [
      "size of training set: 2711\n",
      "size of testing set: 678\n"
     ]
    }
   ],
   "source": [
    "print(\"size of training set:\", len(X_train))\n",
    "print(\"size of testing set:\", len(X_test))"
   ]
  },
  {
   "cell_type": "code",
   "execution_count": 18,
   "metadata": {},
   "outputs": [
    {
     "name": "stdout",
     "output_type": "stream",
     "text": [
      "Intercept: 412.7242775836069\n",
      "Coefficient: [252.46379955  -1.41407289  -0.48816569  -2.08668045]\n",
      "Accuracy: 97.82803335519093\n"
     ]
    }
   ],
   "source": [
    "clf = LinearRegression()\n",
    "clf.fit(X_train, y_train)\n",
    "accuracy = clf.score(X_test, y_test)\n",
    "print(\"Intercept:\" , clf.intercept_)\n",
    "print(\"Coefficient:\" , clf.coef_)\n",
    "print(\"Accuracy:\" , accuracy*100)"
   ]
  },
  {
   "cell_type": "code",
   "execution_count": 65,
   "metadata": {},
   "outputs": [
    {
     "name": "stderr",
     "output_type": "stream",
     "text": [
      "/usr/lib/python3/dist-packages/sklearn/svm/base.py:196: FutureWarning: The default value of gamma will change from 'auto' to 'scale' in version 0.22 to account better for unscaled features. Set gamma explicitly to 'auto' or 'scale' to avoid this warning.\n",
      "  \"avoid this warning.\", FutureWarning)\n"
     ]
    },
    {
     "name": "stdout",
     "output_type": "stream",
     "text": [
      "0.7719827721413409\n"
     ]
    }
   ],
   "source": [
    "clf1 = svm.SVR()\n",
    "clf1.fit(X_train,y_train)\n",
    "print(clf1.score(X_test,y_test))"
   ]
  },
  {
   "cell_type": "code",
   "execution_count": 66,
   "metadata": {},
   "outputs": [],
   "source": [
    "#H = X[:-forecast_out]\n",
    "#H"
   ]
  },
  {
   "cell_type": "code",
   "execution_count": 69,
   "metadata": {},
   "outputs": [
    {
     "data": {
      "text/plain": [
       "array([[ 2.62836772, -0.13340253,  0.14019752, -0.76716771],\n",
       "       [ 2.68662975, -0.66985773,  0.53097279, -0.57983089],\n",
       "       [ 2.7391177 , -0.8241238 ,  0.55095625, -0.77306097],\n",
       "       [ 2.7178258 , -0.51264032, -0.18488046, -0.79662122],\n",
       "       [ 2.692885  , -0.30554215, -0.43982364, -0.77955849],\n",
       "       [ 2.68201851, -0.38666199, -0.26703183, -0.80592231],\n",
       "       [ 2.67403906, -0.70139021, -0.05623854, -0.84827073],\n",
       "       [ 2.66196963, -0.68825442, -0.15944615, -0.84176825],\n",
       "       [ 2.63931441, -0.26414613, -0.38581877, -0.82809679],\n",
       "       [ 2.62227286, -0.1926436 , -0.38117269, -0.83358049]])"
      ]
     },
     "execution_count": 69,
     "metadata": {},
     "output_type": "execute_result"
    }
   ],
   "source": [
    "X_lately = X[-forecast_out:]\n",
    "X_lately[0:10]\n"
   ]
  },
  {
   "cell_type": "code",
   "execution_count": 70,
   "metadata": {},
   "outputs": [
    {
     "data": {
      "text/plain": [
       "array([1078.01301448, 1092.89897851, 1106.76188359, 1101.35436132,\n",
       "       1094.85371072, 1092.19568674, 1090.61167828, 1087.58282507,\n",
       "       1081.34545973, 1076.9511521 , 1074.69863867, 1094.19194892,\n",
       "       1112.6177088 , 1117.12390257, 1132.11976717, 1136.09756229,\n",
       "       1134.79225546, 1132.26831201, 1134.0792784 , 1152.52214502,\n",
       "       1151.54197535, 1161.79065404, 1158.31707401, 1166.14383078,\n",
       "       1186.36844362, 1198.89561876, 1193.05400082, 1205.10972737,\n",
       "       1210.79124693, 1208.63718644, 1199.41035564, 1205.08082527,\n",
       "       1203.7718092 , 1139.50990274, 1085.60892505])"
      ]
     },
     "execution_count": 70,
     "metadata": {},
     "output_type": "execute_result"
    }
   ],
   "source": [
    "clf.predict(X_lately)"
   ]
  },
  {
   "cell_type": "code",
   "execution_count": 71,
   "metadata": {
    "scrolled": true
   },
   "outputs": [
    {
     "data": {
      "text/html": [
       "<div>\n",
       "<style scoped>\n",
       "    .dataframe tbody tr th:only-of-type {\n",
       "        vertical-align: middle;\n",
       "    }\n",
       "\n",
       "    .dataframe tbody tr th {\n",
       "        vertical-align: top;\n",
       "    }\n",
       "\n",
       "    .dataframe thead th {\n",
       "        text-align: right;\n",
       "    }\n",
       "</style>\n",
       "<table border=\"1\" class=\"dataframe\">\n",
       "  <thead>\n",
       "    <tr style=\"text-align: right;\">\n",
       "      <th></th>\n",
       "      <th>Adj. Close</th>\n",
       "      <th>HL_PCT</th>\n",
       "      <th>PCT_change</th>\n",
       "      <th>Adj. Volume</th>\n",
       "      <th>label</th>\n",
       "    </tr>\n",
       "    <tr>\n",
       "      <th>Date</th>\n",
       "      <th></th>\n",
       "      <th></th>\n",
       "      <th></th>\n",
       "      <th></th>\n",
       "      <th></th>\n",
       "    </tr>\n",
       "  </thead>\n",
       "  <tbody>\n",
       "    <tr>\n",
       "      <th>2017-12-21</th>\n",
       "      <td>1070.85</td>\n",
       "      <td>0.622870</td>\n",
       "      <td>-0.422172</td>\n",
       "      <td>1211012.0</td>\n",
       "      <td>1054.14</td>\n",
       "    </tr>\n",
       "    <tr>\n",
       "      <th>2017-12-22</th>\n",
       "      <td>1068.86</td>\n",
       "      <td>0.267575</td>\n",
       "      <td>-0.106542</td>\n",
       "      <td>860800.0</td>\n",
       "      <td>1072.70</td>\n",
       "    </tr>\n",
       "    <tr>\n",
       "      <th>2017-12-26</th>\n",
       "      <td>1065.85</td>\n",
       "      <td>0.282404</td>\n",
       "      <td>-0.261080</td>\n",
       "      <td>914574.0</td>\n",
       "      <td>1091.36</td>\n",
       "    </tr>\n",
       "    <tr>\n",
       "      <th>2017-12-27</th>\n",
       "      <td>1060.20</td>\n",
       "      <td>0.761177</td>\n",
       "      <td>-0.600038</td>\n",
       "      <td>1027634.0</td>\n",
       "      <td>1095.50</td>\n",
       "    </tr>\n",
       "    <tr>\n",
       "      <th>2017-12-28</th>\n",
       "      <td>1055.95</td>\n",
       "      <td>0.841896</td>\n",
       "      <td>-0.593081</td>\n",
       "      <td>982285.0</td>\n",
       "      <td>1103.59</td>\n",
       "    </tr>\n",
       "    <tr>\n",
       "      <th>2017-12-29</th>\n",
       "      <td>1053.40</td>\n",
       "      <td>0.441428</td>\n",
       "      <td>-0.198012</td>\n",
       "      <td>1156357.0</td>\n",
       "      <td>1113.75</td>\n",
       "    </tr>\n",
       "    <tr>\n",
       "      <th>2018-01-02</th>\n",
       "      <td>1073.21</td>\n",
       "      <td>0.258104</td>\n",
       "      <td>1.917343</td>\n",
       "      <td>1555809.0</td>\n",
       "      <td>1109.90</td>\n",
       "    </tr>\n",
       "    <tr>\n",
       "      <th>2018-01-03</th>\n",
       "      <td>1091.52</td>\n",
       "      <td>0.419598</td>\n",
       "      <td>1.637909</td>\n",
       "      <td>1550593.0</td>\n",
       "      <td>1128.09</td>\n",
       "    </tr>\n",
       "    <tr>\n",
       "      <th>2018-01-04</th>\n",
       "      <td>1095.76</td>\n",
       "      <td>0.759290</td>\n",
       "      <td>-0.121230</td>\n",
       "      <td>1289293.0</td>\n",
       "      <td>1143.70</td>\n",
       "    </tr>\n",
       "    <tr>\n",
       "      <th>2018-01-05</th>\n",
       "      <td>1110.29</td>\n",
       "      <td>0.296319</td>\n",
       "      <td>0.619874</td>\n",
       "      <td>1493389.0</td>\n",
       "      <td>1117.51</td>\n",
       "    </tr>\n",
       "    <tr>\n",
       "      <th>2018-01-08</th>\n",
       "      <td>1114.21</td>\n",
       "      <td>0.444261</td>\n",
       "      <td>0.288929</td>\n",
       "      <td>1148958.0</td>\n",
       "      <td>1103.92</td>\n",
       "    </tr>\n",
       "    <tr>\n",
       "      <th>2018-01-09</th>\n",
       "      <td>1112.79</td>\n",
       "      <td>0.507733</td>\n",
       "      <td>-0.505168</td>\n",
       "      <td>1335995.0</td>\n",
       "      <td>1071.41</td>\n",
       "    </tr>\n",
       "    <tr>\n",
       "      <th>2018-01-10</th>\n",
       "      <td>1110.14</td>\n",
       "      <td>0.237808</td>\n",
       "      <td>0.283650</td>\n",
       "      <td>1027781.0</td>\n",
       "      <td>1084.14</td>\n",
       "    </tr>\n",
       "    <tr>\n",
       "      <th>2018-01-11</th>\n",
       "      <td>1111.88</td>\n",
       "      <td>0.267115</td>\n",
       "      <td>-0.038658</td>\n",
       "      <td>1102461.0</td>\n",
       "      <td>1094.76</td>\n",
       "    </tr>\n",
       "    <tr>\n",
       "      <th>2018-01-12</th>\n",
       "      <td>1130.65</td>\n",
       "      <td>0.057489</td>\n",
       "      <td>1.851185</td>\n",
       "      <td>1914460.0</td>\n",
       "      <td>1100.90</td>\n",
       "    </tr>\n",
       "    <tr>\n",
       "      <th>2018-01-16</th>\n",
       "      <td>1130.70</td>\n",
       "      <td>1.607854</td>\n",
       "      <td>-0.842753</td>\n",
       "      <td>1783881.0</td>\n",
       "      <td>1115.04</td>\n",
       "    </tr>\n",
       "    <tr>\n",
       "      <th>2018-01-17</th>\n",
       "      <td>1139.10</td>\n",
       "      <td>0.019313</td>\n",
       "      <td>0.241121</td>\n",
       "      <td>1353097.0</td>\n",
       "      <td>1129.38</td>\n",
       "    </tr>\n",
       "    <tr>\n",
       "      <th>2018-01-18</th>\n",
       "      <td>1135.97</td>\n",
       "      <td>0.406701</td>\n",
       "      <td>-0.296660</td>\n",
       "      <td>1333633.0</td>\n",
       "      <td>1160.84</td>\n",
       "    </tr>\n",
       "    <tr>\n",
       "      <th>2018-01-19</th>\n",
       "      <td>1143.50</td>\n",
       "      <td>0.024486</td>\n",
       "      <td>0.480655</td>\n",
       "      <td>1418376.0</td>\n",
       "      <td>1165.93</td>\n",
       "    </tr>\n",
       "    <tr>\n",
       "      <th>2018-01-22</th>\n",
       "      <td>1164.16</td>\n",
       "      <td>0.233645</td>\n",
       "      <td>1.778252</td>\n",
       "      <td>1437954.0</td>\n",
       "      <td>1139.91</td>\n",
       "    </tr>\n",
       "    <tr>\n",
       "      <th>2018-01-23</th>\n",
       "      <td>1176.17</td>\n",
       "      <td>0.198951</td>\n",
       "      <td>0.474108</td>\n",
       "      <td>1832126.0</td>\n",
       "      <td>1148.89</td>\n",
       "    </tr>\n",
       "    <tr>\n",
       "      <th>2018-01-24</th>\n",
       "      <td>1171.29</td>\n",
       "      <td>1.345525</td>\n",
       "      <td>-1.155294</td>\n",
       "      <td>1818182.0</td>\n",
       "      <td>1150.61</td>\n",
       "    </tr>\n",
       "    <tr>\n",
       "      <th>2018-01-25</th>\n",
       "      <td>1182.14</td>\n",
       "      <td>0.241934</td>\n",
       "      <td>0.121114</td>\n",
       "      <td>1398961.0</td>\n",
       "      <td>1134.42</td>\n",
       "    </tr>\n",
       "    <tr>\n",
       "      <th>2018-01-26</th>\n",
       "      <td>1187.56</td>\n",
       "      <td>0.000000</td>\n",
       "      <td>0.002526</td>\n",
       "      <td>1981476.0</td>\n",
       "      <td>1100.07</td>\n",
       "    </tr>\n",
       "    <tr>\n",
       "      <th>2018-01-29</th>\n",
       "      <td>1186.48</td>\n",
       "      <td>0.970939</td>\n",
       "      <td>-0.127946</td>\n",
       "      <td>1533931.0</td>\n",
       "      <td>1095.80</td>\n",
       "    </tr>\n",
       "    <tr>\n",
       "      <th>2018-01-30</th>\n",
       "      <td>1177.37</td>\n",
       "      <td>0.896914</td>\n",
       "      <td>-0.029718</td>\n",
       "      <td>1792602.0</td>\n",
       "      <td>1094.00</td>\n",
       "    </tr>\n",
       "    <tr>\n",
       "      <th>2018-01-31</th>\n",
       "      <td>1182.22</td>\n",
       "      <td>0.346805</td>\n",
       "      <td>-0.134312</td>\n",
       "      <td>1643877.0</td>\n",
       "      <td>1053.15</td>\n",
       "    </tr>\n",
       "    <tr>\n",
       "      <th>2018-02-01</th>\n",
       "      <td>1181.59</td>\n",
       "      <td>0.495942</td>\n",
       "      <td>0.476195</td>\n",
       "      <td>2774967.0</td>\n",
       "      <td>1026.55</td>\n",
       "    </tr>\n",
       "    <tr>\n",
       "      <th>2018-02-02</th>\n",
       "      <td>1119.20</td>\n",
       "      <td>1.081129</td>\n",
       "      <td>-0.729098</td>\n",
       "      <td>5798880.0</td>\n",
       "      <td>1054.09</td>\n",
       "    </tr>\n",
       "    <tr>\n",
       "      <th>2018-02-05</th>\n",
       "      <td>1068.76</td>\n",
       "      <td>4.325574</td>\n",
       "      <td>-2.893850</td>\n",
       "      <td>3742469.0</td>\n",
       "      <td>1006.94</td>\n",
       "    </tr>\n",
       "  </tbody>\n",
       "</table>\n",
       "</div>"
      ],
      "text/plain": [
       "            Adj. Close    HL_PCT  PCT_change  Adj. Volume    label\n",
       "Date                                                              \n",
       "2017-12-21     1070.85  0.622870   -0.422172    1211012.0  1054.14\n",
       "2017-12-22     1068.86  0.267575   -0.106542     860800.0  1072.70\n",
       "2017-12-26     1065.85  0.282404   -0.261080     914574.0  1091.36\n",
       "2017-12-27     1060.20  0.761177   -0.600038    1027634.0  1095.50\n",
       "2017-12-28     1055.95  0.841896   -0.593081     982285.0  1103.59\n",
       "2017-12-29     1053.40  0.441428   -0.198012    1156357.0  1113.75\n",
       "2018-01-02     1073.21  0.258104    1.917343    1555809.0  1109.90\n",
       "2018-01-03     1091.52  0.419598    1.637909    1550593.0  1128.09\n",
       "2018-01-04     1095.76  0.759290   -0.121230    1289293.0  1143.70\n",
       "2018-01-05     1110.29  0.296319    0.619874    1493389.0  1117.51\n",
       "2018-01-08     1114.21  0.444261    0.288929    1148958.0  1103.92\n",
       "2018-01-09     1112.79  0.507733   -0.505168    1335995.0  1071.41\n",
       "2018-01-10     1110.14  0.237808    0.283650    1027781.0  1084.14\n",
       "2018-01-11     1111.88  0.267115   -0.038658    1102461.0  1094.76\n",
       "2018-01-12     1130.65  0.057489    1.851185    1914460.0  1100.90\n",
       "2018-01-16     1130.70  1.607854   -0.842753    1783881.0  1115.04\n",
       "2018-01-17     1139.10  0.019313    0.241121    1353097.0  1129.38\n",
       "2018-01-18     1135.97  0.406701   -0.296660    1333633.0  1160.84\n",
       "2018-01-19     1143.50  0.024486    0.480655    1418376.0  1165.93\n",
       "2018-01-22     1164.16  0.233645    1.778252    1437954.0  1139.91\n",
       "2018-01-23     1176.17  0.198951    0.474108    1832126.0  1148.89\n",
       "2018-01-24     1171.29  1.345525   -1.155294    1818182.0  1150.61\n",
       "2018-01-25     1182.14  0.241934    0.121114    1398961.0  1134.42\n",
       "2018-01-26     1187.56  0.000000    0.002526    1981476.0  1100.07\n",
       "2018-01-29     1186.48  0.970939   -0.127946    1533931.0  1095.80\n",
       "2018-01-30     1177.37  0.896914   -0.029718    1792602.0  1094.00\n",
       "2018-01-31     1182.22  0.346805   -0.134312    1643877.0  1053.15\n",
       "2018-02-01     1181.59  0.495942    0.476195    2774967.0  1026.55\n",
       "2018-02-02     1119.20  1.081129   -0.729098    5798880.0  1054.09\n",
       "2018-02-05     1068.76  4.325574   -2.893850    3742469.0  1006.94"
      ]
     },
     "execution_count": 71,
     "metadata": {},
     "output_type": "execute_result"
    }
   ],
   "source": [
    "df.tail(30)"
   ]
  },
  {
   "cell_type": "code",
   "execution_count": 72,
   "metadata": {},
   "outputs": [
    {
     "name": "stdout",
     "output_type": "stream",
     "text": [
      "[1078.01301448 1092.89897851 1106.76188359 1101.35436132 1094.85371072\n",
      " 1092.19568674 1090.61167828 1087.58282507 1081.34545973 1076.9511521\n",
      " 1074.69863867 1094.19194892 1112.6177088  1117.12390257 1132.11976717\n",
      " 1136.09756229 1134.79225546 1132.26831201 1134.0792784  1152.52214502\n",
      " 1151.54197535 1161.79065404 1158.31707401 1166.14383078 1186.36844362\n",
      " 1198.89561876 1193.05400082 1205.10972737 1210.79124693 1208.63718644\n",
      " 1199.41035564 1205.08082527 1203.7718092  1139.50990274 1085.60892505] 0.9782803335519092 35\n"
     ]
    },
    {
     "name": "stderr",
     "output_type": "stream",
     "text": [
      "/usr/local/lib/python3.7/dist-packages/ipykernel_launcher.py:3: SettingWithCopyWarning: \n",
      "A value is trying to be set on a copy of a slice from a DataFrame.\n",
      "Try using .loc[row_indexer,col_indexer] = value instead\n",
      "\n",
      "See the caveats in the documentation: http://pandas.pydata.org/pandas-docs/stable/user_guide/indexing.html#returning-a-view-versus-a-copy\n",
      "  This is separate from the ipykernel package so we can avoid doing imports until\n"
     ]
    }
   ],
   "source": [
    "forecast_set = clf.predict(X_lately)\n",
    "print(forecast_set, accuracy, forecast_out)\n",
    "df['Forecast'] = np.nan"
   ]
  },
  {
   "cell_type": "code",
   "execution_count": 73,
   "metadata": {},
   "outputs": [
    {
     "data": {
      "text/plain": [
       "Timestamp('2018-02-05 00:00:00')"
      ]
     },
     "execution_count": 73,
     "metadata": {},
     "output_type": "execute_result"
    }
   ],
   "source": [
    "last_date = df.iloc[-1].name\n",
    "last_date"
   ]
  },
  {
   "cell_type": "code",
   "execution_count": 74,
   "metadata": {},
   "outputs": [
    {
     "data": {
      "text/plain": [
       "1517788800.0"
      ]
     },
     "execution_count": 74,
     "metadata": {},
     "output_type": "execute_result"
    }
   ],
   "source": [
    "last_unix = last_date.timestamp()\n",
    "last_unix"
   ]
  },
  {
   "cell_type": "code",
   "execution_count": 75,
   "metadata": {},
   "outputs": [
    {
     "data": {
      "text/plain": [
       "1517875200.0"
      ]
     },
     "execution_count": 75,
     "metadata": {},
     "output_type": "execute_result"
    }
   ],
   "source": [
    "one_day = 86400\n",
    "next_unix =  (last_unix + one_day)\n",
    "next_unix"
   ]
  },
  {
   "cell_type": "code",
   "execution_count": 76,
   "metadata": {},
   "outputs": [],
   "source": [
    "import datetime\n",
    "import matplotlib.pyplot as plt\n",
    "from matplotlib import style\n",
    "from matplotlib import figure\n",
    "\n",
    "style.use('ggplot')"
   ]
  },
  {
   "cell_type": "code",
   "execution_count": 77,
   "metadata": {},
   "outputs": [
    {
     "data": {
      "text/html": [
       "<div>\n",
       "<style scoped>\n",
       "    .dataframe tbody tr th:only-of-type {\n",
       "        vertical-align: middle;\n",
       "    }\n",
       "\n",
       "    .dataframe tbody tr th {\n",
       "        vertical-align: top;\n",
       "    }\n",
       "\n",
       "    .dataframe thead th {\n",
       "        text-align: right;\n",
       "    }\n",
       "</style>\n",
       "<table border=\"1\" class=\"dataframe\">\n",
       "  <thead>\n",
       "    <tr style=\"text-align: right;\">\n",
       "      <th></th>\n",
       "      <th>Adj. Close</th>\n",
       "      <th>HL_PCT</th>\n",
       "      <th>PCT_change</th>\n",
       "      <th>Adj. Volume</th>\n",
       "      <th>label</th>\n",
       "      <th>Forecast</th>\n",
       "    </tr>\n",
       "    <tr>\n",
       "      <th>Date</th>\n",
       "      <th></th>\n",
       "      <th></th>\n",
       "      <th></th>\n",
       "      <th></th>\n",
       "      <th></th>\n",
       "      <th></th>\n",
       "    </tr>\n",
       "  </thead>\n",
       "  <tbody>\n",
       "    <tr>\n",
       "      <th>2018-01-30</th>\n",
       "      <td>1177.37</td>\n",
       "      <td>0.896914</td>\n",
       "      <td>-0.029718</td>\n",
       "      <td>1792602.0</td>\n",
       "      <td>1094.00</td>\n",
       "      <td>NaN</td>\n",
       "    </tr>\n",
       "    <tr>\n",
       "      <th>2018-01-31</th>\n",
       "      <td>1182.22</td>\n",
       "      <td>0.346805</td>\n",
       "      <td>-0.134312</td>\n",
       "      <td>1643877.0</td>\n",
       "      <td>1053.15</td>\n",
       "      <td>NaN</td>\n",
       "    </tr>\n",
       "    <tr>\n",
       "      <th>2018-02-01</th>\n",
       "      <td>1181.59</td>\n",
       "      <td>0.495942</td>\n",
       "      <td>0.476195</td>\n",
       "      <td>2774967.0</td>\n",
       "      <td>1026.55</td>\n",
       "      <td>NaN</td>\n",
       "    </tr>\n",
       "    <tr>\n",
       "      <th>2018-02-02</th>\n",
       "      <td>1119.20</td>\n",
       "      <td>1.081129</td>\n",
       "      <td>-0.729098</td>\n",
       "      <td>5798880.0</td>\n",
       "      <td>1054.09</td>\n",
       "      <td>NaN</td>\n",
       "    </tr>\n",
       "    <tr>\n",
       "      <th>2018-02-05</th>\n",
       "      <td>1068.76</td>\n",
       "      <td>4.325574</td>\n",
       "      <td>-2.893850</td>\n",
       "      <td>3742469.0</td>\n",
       "      <td>1006.94</td>\n",
       "      <td>NaN</td>\n",
       "    </tr>\n",
       "  </tbody>\n",
       "</table>\n",
       "</div>"
      ],
      "text/plain": [
       "            Adj. Close    HL_PCT  PCT_change  Adj. Volume    label  Forecast\n",
       "Date                                                                        \n",
       "2018-01-30     1177.37  0.896914   -0.029718    1792602.0  1094.00       NaN\n",
       "2018-01-31     1182.22  0.346805   -0.134312    1643877.0  1053.15       NaN\n",
       "2018-02-01     1181.59  0.495942    0.476195    2774967.0  1026.55       NaN\n",
       "2018-02-02     1119.20  1.081129   -0.729098    5798880.0  1054.09       NaN\n",
       "2018-02-05     1068.76  4.325574   -2.893850    3742469.0  1006.94       NaN"
      ]
     },
     "execution_count": 77,
     "metadata": {},
     "output_type": "execute_result"
    }
   ],
   "source": [
    "df.tail()"
   ]
  },
  {
   "cell_type": "code",
   "execution_count": 78,
   "metadata": {
    "scrolled": false
   },
   "outputs": [
    {
     "name": "stderr",
     "output_type": "stream",
     "text": [
      "/usr/local/lib/python3.7/dist-packages/pandas/core/indexing.py:205: SettingWithCopyWarning: \n",
      "A value is trying to be set on a copy of a slice from a DataFrame\n",
      "\n",
      "See the caveats in the documentation: http://pandas.pydata.org/pandas-docs/stable/user_guide/indexing.html#returning-a-view-versus-a-copy\n",
      "  self._setitem_with_indexer(indexer, value)\n"
     ]
    }
   ],
   "source": [
    "for i in forecast_set:\n",
    "    next_date = datetime.datetime.fromtimestamp(next_unix)\n",
    "    next_unix += one_day \n",
    "    df.loc[next_date] = [np.nan for _ in range(len(df.columns)-1)] + [i]"
   ]
  },
  {
   "cell_type": "code",
   "execution_count": 79,
   "metadata": {
    "scrolled": true
   },
   "outputs": [
    {
     "data": {
      "text/html": [
       "<div>\n",
       "<style scoped>\n",
       "    .dataframe tbody tr th:only-of-type {\n",
       "        vertical-align: middle;\n",
       "    }\n",
       "\n",
       "    .dataframe tbody tr th {\n",
       "        vertical-align: top;\n",
       "    }\n",
       "\n",
       "    .dataframe thead th {\n",
       "        text-align: right;\n",
       "    }\n",
       "</style>\n",
       "<table border=\"1\" class=\"dataframe\">\n",
       "  <thead>\n",
       "    <tr style=\"text-align: right;\">\n",
       "      <th></th>\n",
       "      <th>Adj. Close</th>\n",
       "      <th>HL_PCT</th>\n",
       "      <th>PCT_change</th>\n",
       "      <th>Adj. Volume</th>\n",
       "      <th>label</th>\n",
       "      <th>Forecast</th>\n",
       "    </tr>\n",
       "    <tr>\n",
       "      <th>Date</th>\n",
       "      <th></th>\n",
       "      <th></th>\n",
       "      <th></th>\n",
       "      <th></th>\n",
       "      <th></th>\n",
       "      <th></th>\n",
       "    </tr>\n",
       "  </thead>\n",
       "  <tbody>\n",
       "    <tr>\n",
       "      <th>2018-03-03 05:30:00</th>\n",
       "      <td>NaN</td>\n",
       "      <td>NaN</td>\n",
       "      <td>NaN</td>\n",
       "      <td>NaN</td>\n",
       "      <td>NaN</td>\n",
       "      <td>1198.895619</td>\n",
       "    </tr>\n",
       "    <tr>\n",
       "      <th>2018-03-04 05:30:00</th>\n",
       "      <td>NaN</td>\n",
       "      <td>NaN</td>\n",
       "      <td>NaN</td>\n",
       "      <td>NaN</td>\n",
       "      <td>NaN</td>\n",
       "      <td>1193.054001</td>\n",
       "    </tr>\n",
       "    <tr>\n",
       "      <th>2018-03-05 05:30:00</th>\n",
       "      <td>NaN</td>\n",
       "      <td>NaN</td>\n",
       "      <td>NaN</td>\n",
       "      <td>NaN</td>\n",
       "      <td>NaN</td>\n",
       "      <td>1205.109727</td>\n",
       "    </tr>\n",
       "    <tr>\n",
       "      <th>2018-03-06 05:30:00</th>\n",
       "      <td>NaN</td>\n",
       "      <td>NaN</td>\n",
       "      <td>NaN</td>\n",
       "      <td>NaN</td>\n",
       "      <td>NaN</td>\n",
       "      <td>1210.791247</td>\n",
       "    </tr>\n",
       "    <tr>\n",
       "      <th>2018-03-07 05:30:00</th>\n",
       "      <td>NaN</td>\n",
       "      <td>NaN</td>\n",
       "      <td>NaN</td>\n",
       "      <td>NaN</td>\n",
       "      <td>NaN</td>\n",
       "      <td>1208.637186</td>\n",
       "    </tr>\n",
       "    <tr>\n",
       "      <th>2018-03-08 05:30:00</th>\n",
       "      <td>NaN</td>\n",
       "      <td>NaN</td>\n",
       "      <td>NaN</td>\n",
       "      <td>NaN</td>\n",
       "      <td>NaN</td>\n",
       "      <td>1199.410356</td>\n",
       "    </tr>\n",
       "    <tr>\n",
       "      <th>2018-03-09 05:30:00</th>\n",
       "      <td>NaN</td>\n",
       "      <td>NaN</td>\n",
       "      <td>NaN</td>\n",
       "      <td>NaN</td>\n",
       "      <td>NaN</td>\n",
       "      <td>1205.080825</td>\n",
       "    </tr>\n",
       "    <tr>\n",
       "      <th>2018-03-10 05:30:00</th>\n",
       "      <td>NaN</td>\n",
       "      <td>NaN</td>\n",
       "      <td>NaN</td>\n",
       "      <td>NaN</td>\n",
       "      <td>NaN</td>\n",
       "      <td>1203.771809</td>\n",
       "    </tr>\n",
       "    <tr>\n",
       "      <th>2018-03-11 05:30:00</th>\n",
       "      <td>NaN</td>\n",
       "      <td>NaN</td>\n",
       "      <td>NaN</td>\n",
       "      <td>NaN</td>\n",
       "      <td>NaN</td>\n",
       "      <td>1139.509903</td>\n",
       "    </tr>\n",
       "    <tr>\n",
       "      <th>2018-03-12 05:30:00</th>\n",
       "      <td>NaN</td>\n",
       "      <td>NaN</td>\n",
       "      <td>NaN</td>\n",
       "      <td>NaN</td>\n",
       "      <td>NaN</td>\n",
       "      <td>1085.608925</td>\n",
       "    </tr>\n",
       "  </tbody>\n",
       "</table>\n",
       "</div>"
      ],
      "text/plain": [
       "                     Adj. Close  HL_PCT  PCT_change  Adj. Volume  label  \\\n",
       "Date                                                                      \n",
       "2018-03-03 05:30:00         NaN     NaN         NaN          NaN    NaN   \n",
       "2018-03-04 05:30:00         NaN     NaN         NaN          NaN    NaN   \n",
       "2018-03-05 05:30:00         NaN     NaN         NaN          NaN    NaN   \n",
       "2018-03-06 05:30:00         NaN     NaN         NaN          NaN    NaN   \n",
       "2018-03-07 05:30:00         NaN     NaN         NaN          NaN    NaN   \n",
       "2018-03-08 05:30:00         NaN     NaN         NaN          NaN    NaN   \n",
       "2018-03-09 05:30:00         NaN     NaN         NaN          NaN    NaN   \n",
       "2018-03-10 05:30:00         NaN     NaN         NaN          NaN    NaN   \n",
       "2018-03-11 05:30:00         NaN     NaN         NaN          NaN    NaN   \n",
       "2018-03-12 05:30:00         NaN     NaN         NaN          NaN    NaN   \n",
       "\n",
       "                        Forecast  \n",
       "Date                              \n",
       "2018-03-03 05:30:00  1198.895619  \n",
       "2018-03-04 05:30:00  1193.054001  \n",
       "2018-03-05 05:30:00  1205.109727  \n",
       "2018-03-06 05:30:00  1210.791247  \n",
       "2018-03-07 05:30:00  1208.637186  \n",
       "2018-03-08 05:30:00  1199.410356  \n",
       "2018-03-09 05:30:00  1205.080825  \n",
       "2018-03-10 05:30:00  1203.771809  \n",
       "2018-03-11 05:30:00  1139.509903  \n",
       "2018-03-12 05:30:00  1085.608925  "
      ]
     },
     "execution_count": 79,
     "metadata": {},
     "output_type": "execute_result"
    }
   ],
   "source": [
    "df.tail(10)"
   ]
  },
  {
   "cell_type": "code",
   "execution_count": 32,
   "metadata": {},
   "outputs": [
    {
     "data": {
      "image/png": "[encoded data removed]",
      "text/plain": [
       "<Figure size 720x720 with 1 Axes>"
      ]
     },
     "metadata": {},
     "output_type": "display_data"
    }
   ],
   "source": [
    "plt.figure(figsize = (10,10))\n",
    "df['Adj. Close'].plot()\n",
    "df[\"Forecast\"].plot()\n",
    "plt.legend(loc=4)\n",
    "plt.xlabel(\"Date\")\n",
    "plt.ylabel(\"Price\")\n",
    "plt.show()"
   ]
  },
  {
   "cell_type": "code",
   "execution_count": 33,
   "metadata": {},
   "outputs": [],
   "source": [
    "from statistics import mean\n",
    "import random\n"
   ]
  },
  {
   "cell_type": "code",
   "execution_count": 35,
   "metadata": {},
   "outputs": [],
   "source": [
    "# # using normal dataset\n",
    "# xs = np.array([1,2,3,4,5,6] , dtype=np.float64)\n",
    "# ys = np.array([5,4,6,5,6,7] , dtype=np.float64)\n"
   ]
  },
  {
   "cell_type": "code",
   "execution_count": 36,
   "metadata": {},
   "outputs": [
    {
     "data": {
      "text/plain": [
       "array([[0., 0., 0., 0., 0., 0.],\n",
       "       [0., 0., 0., 0., 0., 0.],\n",
       "       [0., 0., 0., 0., 0., 0.],\n",
       "       [0., 0., 0., 0., 0., 0.],\n",
       "       [0., 0., 0., 0., 0., 0.],\n",
       "       [0., 0., 0., 0., 0., 0.]])"
      ]
     },
     "execution_count": 36,
     "metadata": {},
     "output_type": "execute_result"
    }
   ],
   "source": [
    "# xr = xs.reshape(1,-1)\n",
    "# yr = ys.reshape(1,-1)\n",
    "# gf = pd.DataFrame({\"xs\":xs,\"ys\":ys})\n",
    "# lm = LinearRegression()\n",
    "# h = lm.fit(xr,yr)\n",
    "# h.coef_"
   ]
  },
  {
   "cell_type": "code",
   "execution_count": 80,
   "metadata": {},
   "outputs": [],
   "source": [
    "def best_fit_slope_and_intercept(o,p):\n",
    "    slope = ( ((mean(o) * mean(p)) - mean(o*p))/\n",
    "        ((mean(o) * mean(o))-mean(o*o)))\n",
    "    intercept = (mean(p)) - ((slope) * mean(o)) \n",
    "    \n",
    "    return slope, intercept"
   ]
  },
  {
   "cell_type": "code",
   "execution_count": 83,
   "metadata": {},
   "outputs": [
    {
     "name": "stdout",
     "output_type": "stream",
     "text": [
      "1.9597110308419008 2.588524590163928\n"
     ]
    }
   ],
   "source": [
    "# m,b= best_fit_slope_and_intercept(xs,ys)\n",
    "\n",
    "# print(m,b)"
   ]
  },
  {
   "cell_type": "code",
   "execution_count": 81,
   "metadata": {},
   "outputs": [],
   "source": [
    "#creating new data set\n",
    "def creating_dataset(hm, variance, step, correlation):\n",
    "    val=1\n",
    "    ys=[]\n",
    "    for i in range(hm):\n",
    "        y = val+ random.randrange(-variance,variance)\n",
    "        ys.append(y)\n",
    "        if correlation and correlation ==\"pos\":\n",
    "            val+=step\n",
    "        elif correlation and correlation ==\"neg\":\n",
    "            val-+step\n",
    "    xs = [i for i in range(len(ys))]    \n",
    "    return np.array(xs, dtype=np.float64),np.array(ys,dtype=np.float64)"
   ]
  },
  {
   "cell_type": "code",
   "execution_count": 82,
   "metadata": {},
   "outputs": [],
   "source": [
    "xs , ys = creating_dataset(60, 10, 2, correlation = \"pos\")"
   ]
  },
  {
   "cell_type": "code",
   "execution_count": 41,
   "metadata": {},
   "outputs": [
    {
     "data": {
      "text/plain": [
       "array([5., 4., 6., 5., 6., 7.])"
      ]
     },
     "execution_count": 41,
     "metadata": {},
     "output_type": "execute_result"
    }
   ],
   "source": [
    "# lm = LinearRegression()\n",
    "# #lm.fit (gf[\"xs\"],gf['ys'])\n",
    "# lm.fit(xr,yr)\n",
    "# lm.intercept_"
   ]
  },
  {
   "cell_type": "code",
   "execution_count": 84,
   "metadata": {},
   "outputs": [],
   "source": [
    "regression_line = [(m*x)+b for x in xs]"
   ]
  },
  {
   "cell_type": "code",
   "execution_count": 85,
   "metadata": {},
   "outputs": [
    {
     "data": {
      "image/png": "[encoded data removed]",
      "text/plain": [
       "<Figure size 432x288 with 1 Axes>"
      ]
     },
     "metadata": {},
     "output_type": "display_data"
    }
   ],
   "source": [
    "plt.scatter(xs,ys)\n",
    "plt.plot(xs,regression_line, color=\"b\")\n",
    "plt.xlabel(\"xs\")\n",
    "plt.ylabel(\"ys\")\n",
    "plt.show()"
   ]
  },
  {
   "cell_type": "code",
   "execution_count": 86,
   "metadata": {},
   "outputs": [],
   "source": [
    "def squared_error(ys_orig,ys_line):\n",
    "    return sum((ys_line-ys_orig)**2)"
   ]
  },
  {
   "cell_type": "code",
   "execution_count": 87,
   "metadata": {},
   "outputs": [],
   "source": [
    "def coef_of_determination(ys_orig,ys_line):\n",
    "#     ys_mean_line=[]\n",
    "#     for y in ys_orig:\n",
    "#         ys_mean_line.append(mean(ys_orig))\n",
    "    ys_mean_line = [mean(ys_orig) for y in ys_orig]\n",
    "    squared_error_regr = squared_error(ys_orig, ys_line)\n",
    "    squared_error_y_mean = squared_error(ys_orig, ys_mean_line)\n",
    "    return 1 - (squared_error_regr/squared_error_y_mean)"
   ]
  },
  {
   "cell_type": "code",
   "execution_count": 88,
   "metadata": {
    "scrolled": true
   },
   "outputs": [
    {
     "name": "stdout",
     "output_type": "stream",
     "text": [
      "0.9708476787419663\n"
     ]
    }
   ],
   "source": [
    "r_squared = coef_of_determination(ys, regression_line)\n",
    "print(r_squared)"
   ]
  },
  {
   "cell_type": "code",
   "execution_count": null,
   "metadata": {},
   "outputs": [],
   "source": [
    "#finish\n"
   ]
  }
 ],
 "metadata": {
  "kernelspec": {
   "display_name": "Python 3",
   "language": "python",
   "name": "python3"
  },
  "language_info": {
   "codemirror_mode": {
    "name": "ipython",
    "version": 3
   },
   "file_extension": ".py",
   "mimetype": "text/x-python",
   "name": "python",
   "nbconvert_exporter": "python",
   "pygments_lexer": "ipython3",
   "version": "3.7.5"
  }
 },
 "nbformat": 4,
 "nbformat_minor": 2
}
